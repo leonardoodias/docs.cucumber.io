{
  "nbformat": 4,
  "nbformat_minor": 0,
  "metadata": {
    "colab": {
      "provenance": [],
      "include_colab_link": true
    },
    "kernelspec": {
      "name": "python3",
      "display_name": "Python 3"
    },
    "language_info": {
      "name": "python"
    }
  },
  "cells": [
    {
      "cell_type": "markdown",
      "metadata": {
        "id": "view-in-github",
        "colab_type": "text"
      },
      "source": [
        "<a href=\"https://colab.research.google.com/github/leonardoodias/docs.cucumber.io/blob/master/Component_Test.ipynb\" target=\"_parent\"><img src=\"https://colab.research.google.com/assets/colab-badge.svg\" alt=\"Open In Colab\"/></a>"
      ]
    },
    {
      "cell_type": "markdown",
      "source": [
        "**Exemplo de Teste de Unidade e Teste Estrutural.**\n",
        "\n",
        "A célula *** Testes da classe Instcontroller*** é a que contém os testes \n",
        "unitários para a classe InstControler. Há exemplo de testes para criar instrutor e remover instrutor. \n"
      ],
      "metadata": {
        "id": "KvXQTO5i-Ghg"
      }
    },
    {
      "cell_type": "code",
      "source": [
        "#instalar pytest\n",
        "!pip -q install pytest pytest-sugar"
      ],
      "metadata": {
        "id": "LUdO2MIR1LDS"
      },
      "execution_count": 1,
      "outputs": []
    },
    {
      "cell_type": "code",
      "source": [
        "#instalar pytest-cov\n",
        "!pip -q install -U pytest-cov"
      ],
      "metadata": {
        "id": "XHa3MtUa1aaj",
        "colab": {
          "base_uri": "https://localhost:8080/"
        },
        "outputId": "c3919051-0082-47c7-f51e-1556776eeb41"
      },
      "execution_count": 2,
      "outputs": [
        {
          "output_type": "stream",
          "name": "stdout",
          "text": [
            "\u001b[2K     \u001b[90m━━━━━━━━━━━━━━━━━━━━━━━━━━━━━━━━━━━━━━━\u001b[0m \u001b[32m317.1/317.1 KB\u001b[0m \u001b[31m8.2 MB/s\u001b[0m eta \u001b[36m0:00:00\u001b[0m\n",
            "\u001b[2K     \u001b[90m━━━━━━━━━━━━━━━━━━━━━━━━━━━━━━━━━━━━━━\u001b[0m \u001b[32m227.0/227.0 KB\u001b[0m \u001b[31m21.1 MB/s\u001b[0m eta \u001b[36m0:00:00\u001b[0m\n",
            "\u001b[?25h"
          ]
        }
      ]
    },
    {
      "cell_type": "code",
      "source": [
        "# criar e mover para diretório tdd \n",
        "from pathlib import Path\n",
        "if Path.cwd().name != 'tdd':\n",
        "    %mkdir tdd\n",
        "    %cd tdd\n",
        "\n",
        "%pwd"
      ],
      "metadata": {
        "colab": {
          "base_uri": "https://localhost:8080/",
          "height": 54
        },
        "id": "CJAZVznHtbJN",
        "outputId": "72a10c00-2eac-4af8-ad60-bc47b72a2c0e"
      },
      "execution_count": 3,
      "outputs": [
        {
          "output_type": "stream",
          "name": "stdout",
          "text": [
            "/content/tdd\n"
          ]
        },
        {
          "output_type": "execute_result",
          "data": {
            "text/plain": [
              "'/content/tdd'"
            ],
            "application/vnd.google.colaboratory.intrinsic+json": {
              "type": "string"
            }
          },
          "metadata": {},
          "execution_count": 3
        }
      ]
    },
    {
      "cell_type": "code",
      "source": [
        "# limpar arquivos\n",
        "%rm *.py"
      ],
      "metadata": {
        "id": "esVFtQtRx3ws",
        "colab": {
          "base_uri": "https://localhost:8080/"
        },
        "outputId": "a7304d37-92cb-44f0-edc8-4539debcf10a"
      },
      "execution_count": 4,
      "outputs": [
        {
          "output_type": "stream",
          "name": "stdout",
          "text": [
            "rm: cannot remove '*.py': No such file or directory\n"
          ]
        }
      ]
    },
    {
      "cell_type": "code",
      "source": [
        "%%file instrutor.py\n",
        "# Objeto Instrutor\n",
        "class Instrutor:\n",
        "    def __init__(self, nome, email, formacao, empresa, ativo):\n",
        "        self.__nome = nome\n",
        "        self.__email = email\n",
        "        self.__formacao = formacao\n",
        "        self.__empresa = empresa\n",
        "        self.__ativo = ativo\n",
        "        \n",
        "    def desativar(self):\n",
        "        self.__ativo = False\n",
        "        print(\"A pessoa foi desativada com sucesso\")\n",
        "    \n",
        "    def get_nome(self):\n",
        "        return self.__nome\n",
        "\n",
        "    def get_email(self):\n",
        "        return self.__email\n",
        "    \n",
        "    def get_formacao(self):\n",
        "        return self.__formacao\n",
        "    \n",
        "    def get_empresa(self):\n",
        "        return self.__empresa\n",
        "    \n",
        "    def set_nome(self, nome):\n",
        "        self.__nome = nome\n",
        "    \n",
        "    def set_email(self,email):\n",
        "      self.__email = email\n",
        "    \n",
        "    def set_formacao(self, formacao):\n",
        "      self.__formacao = formacao\n",
        "    \n",
        "    def set_empresa(self,empresa):\n",
        "      self.__empresa = empresa\n",
        "\n",
        "    @property\n",
        "    def nome(self):\n",
        "        return self.__nome\n",
        "    \n",
        "    @property\n",
        "    def email(self):\n",
        "        return self.__email\n",
        "    \n",
        "    @property\n",
        "    def formacao(self):\n",
        "        return self.__formacao\n",
        "    \n",
        "    @property\n",
        "    def empresa(self):\n",
        "        return self.__empresa\n",
        "    \n",
        "    @property\n",
        "    def ativo(self):\n",
        "        return self.__ativo\n",
        "    \n",
        "    @nome.setter\n",
        "    def nome(self, nome):\n",
        "        self.__nome = nome\n",
        "\n",
        "    @email.setter\n",
        "    def email(self, email):\n",
        "        self.__email = email\n",
        "\n",
        "    @formacao.setter\n",
        "    def formacao(self, formacao):\n",
        "        self.__formacao = formacao\n",
        "        \n",
        "    @empresa.setter\n",
        "    def empresa(self, empresa):\n",
        "        self.__empresa = empresa\n",
        "\n",
        "    @ativo.setter\n",
        "    def ativo(self, ativo):\n",
        "        self.__ativo = ativo"
      ],
      "metadata": {
        "id": "jIijx231UyUD",
        "colab": {
          "base_uri": "https://localhost:8080/"
        },
        "outputId": "5f3cf07d-feb5-43d4-cfb6-824de66fe2bf"
      },
      "execution_count": 5,
      "outputs": [
        {
          "output_type": "stream",
          "name": "stdout",
          "text": [
            "Writing instrutor.py\n"
          ]
        }
      ]
    },
    {
      "cell_type": "code",
      "source": [
        "%%file instcontroller.py\n",
        "# Classe Principal para realizar operações no cadastro de instrutor\n",
        "import re\n",
        "from instrutor import Instrutor\n",
        "class Instcontroller:\n",
        "\n",
        "  def validar_email(self,email):\n",
        "    regex = '^[a-z0-9]+[\\._]?[a-z0-9]+[@]\\w+[.]\\w{2,3}$'\n",
        "    if(re.search(regex,email)): \n",
        "      return True\n",
        "    else:\n",
        "      return False\n",
        "       \n",
        "  def salvar (self, nome, email, formacao,empresa,ativo):\n",
        "    instrutor1 = Instrutor(\"João\", \"joao@test.com\", \"engenheiro de software\", \"teste\",True) #simulação de único registro cadastrado\n",
        "    valid = True\n",
        "    if (nome !=\"\" and email !=\"\" and formacao !=\"\"):\n",
        "      \n",
        "      if self.validar_email(email)== True:\n",
        "        \n",
        "        if (email == instrutor1.email):\n",
        "          result = \"e-mail duplicado\"\n",
        "        else:\n",
        "          instrutor2 = Instrutor(nome,email,formacao,empresa,True)\n",
        "          result = \"Instrutor salvo com sucesso\"\n",
        "          \n",
        "      else: \n",
        "        result = \"E-mail inválido\"\n",
        "        \n",
        "    else:\n",
        "        result = \"Os campos nome, e-mail e formação não podem ser vazios\"\n",
        "\n",
        "    print(result)\n",
        "    return result\n",
        "  \n",
        "  def remover (self, nome):\n",
        "    instrutor1 = Instrutor(\"João\", \"joao@test.com\", \"engenheiro de software\", \"teste\",True) #simulação de único registro cadastrado\n",
        "    if (nome == instrutor1.nome):\n",
        "      instrutor1.desativar()\n",
        "      msg=\"instrutor removido com sucesso\"\n",
        "    else:\n",
        "      msg=\"instrutor não encontrado\"\n",
        "    return msg\n",
        "\n",
        "  def editar (self, nome, email, formacao,empresa,ativo):\n",
        "    instrutor1 = Instrutor(\"João\", \"joao@test.com\", \"engenheiro de software\", \"teste\",True) #simulação de único registro cadastrado\n",
        "    if (nome == instrutor1.nome):\n",
        "      instrutor1.set_nome(nome)\n",
        "      instrutor1.set_email(email)\n",
        "      instrutor1.set_formacao(formacao)\n",
        "      instrutor1.set_empresa(empresa)\n",
        "      msg = (instrutor1.nome,instrutor1.email,instrutor1.formacao,instrutor1.empresa)\n",
        "    else:\n",
        "      msg=\"instrutor não encontrado\"\n",
        "    return msg\n",
        "\n",
        "  def buscar (self, nome):\n",
        "    instrutor1 = Instrutor(\"João\", \"joao@test.com\", \"engenheiro de software\", \"teste\",True) #simulação de único registro cadastrado\n",
        "    if (nome == instrutor1.nome):\n",
        "      nome = instrutor1.get_nome()\n",
        "      email = instrutor1.get_email()\n",
        "      print (nome,email)\n",
        "      msg = (nome,email)\n",
        "    else:\n",
        "      msg=\"instrutor não encontrado\"\n",
        "    return msg\n"
      ],
      "metadata": {
        "colab": {
          "base_uri": "https://localhost:8080/"
        },
        "id": "H2OdJi-kZOqz",
        "outputId": "42ca289f-7cde-4010-c807-bf5956709586"
      },
      "execution_count": 6,
      "outputs": [
        {
          "output_type": "stream",
          "name": "stdout",
          "text": [
            "Writing instcontroller.py\n"
          ]
        }
      ]
    },
    {
      "cell_type": "code",
      "source": [
        "%%file test_instrutor.py\n",
        "\n",
        "#Testes da classe Instcontroller\n",
        "\n",
        "from instcontroller import Instcontroller\n",
        "\n",
        "new_inst = Instcontroller()\n",
        "\n",
        "### Instrutor salvo com sucesso ####\n",
        "def test_salvar_inst_success():\n",
        "    success_msg = \"Instrutor salvo com sucesso\"\n",
        "    resultado = new_inst.salvar(\"Maria\",\"maria@test.com\",\"analista de sistemas\",\"teste\", True)\n",
        "    assert(resultado==success_msg)\n",
        "\n",
        "def test_salvar_inst_email_duplicado():\n",
        "    success_msg = \"e-mail duplicado\"\n",
        "    resultado = new_inst.salvar(\"João\", \"joao@test.com\", \"engenheiro de software\", \"teste\",True)\n",
        "    assert(resultado==success_msg)\n",
        "\n",
        "def test_salvar_inst_campos_vazios():\n",
        "    success_msg = \"Os campos nome, e-mail e formação não podem ser vazios\"\n",
        "    resultado = new_inst.salvar(\"\", \"\", \"\", \"\",True)\n",
        "    assert(resultado==success_msg)\n",
        "\n",
        "def test_salvar_innts_email_invalido():\n",
        "    success_msg = \"E-mail inválido\"\n",
        "    resultado = new_inst.salvar(\"Maria\",\"mari\",\"analista de sistemas\",\"teste\", True)\n",
        "    assert(resultado==success_msg)\n",
        "\n",
        "##########  salvar instrutor sem informar campos obrigatórios ################################\n",
        "def test_salvar_innts_sem_nome():\n",
        "    success_msg = \"Os campos nome, e-mail e formação não podem ser vazios\"\n",
        "    resultado = new_inst.salvar(\"\",\"maria@test.com\",\"analista de sistemas\",\"teste\", True)\n",
        "    assert(resultado==success_msg)\n",
        "\n",
        "def test_salvar_innts_sem_mail():\n",
        "    success_msg = \"Os campos nome, e-mail e formação não podem ser vazios\"\n",
        "    resultado = new_inst.salvar(\"Maria\",\"\",\"analista de sistemas\",\"teste\", True)\n",
        "    assert(resultado==success_msg)\n",
        "\n",
        "def test_salvar_innts_sem_formacao():\n",
        "    success_msg = \"Os campos nome, e-mail e formação não podem ser vazios\"\n",
        "    resultado = new_inst.salvar(\"Maria\",\"maria@test.com\",\"\",\"teste\", True)\n",
        "    assert(resultado==success_msg)\n",
        "\n",
        "### Validação do e-mail ####\n",
        "def test_salvar_inst_email_sem_arroba():\n",
        "    success_msg = \"E-mail inválido\"\n",
        "    resultado = new_inst.salvar(\"Maria\",\"maritest.com\",\"analista de sistemas\",\"teste\", True)\n",
        "    assert(resultado==success_msg)\n",
        "\n",
        "def test_salvar_inst_email_sem_pontocom():\n",
        "    success_msg = \"E-mail inválido\"\n",
        "    resultado = new_inst.salvar(\"Maria\",\"mari@test\",\"analista de sistemas\",\"teste\", True)\n",
        "    assert(resultado==success_msg)\n",
        "\n",
        "def test_salvar_inst_email_sem_ponto():\n",
        "    success_msg = \"E-mail inválido\"\n",
        "    resultado = new_inst.salvar(\"Maria\",\"mari@testcom\",\"analista de sistemas\",\"teste\", True)\n",
        "    assert(resultado==success_msg)\n",
        "\n",
        "def test_salvar_inst_email_maiusculo():\n",
        "    success_msg = \"E-mail inválido\"\n",
        "    resultado = new_inst.salvar(\"Maria\",\"MARI@test.com\",\"analista de sistemas\",\"teste\", True)\n",
        "    assert(resultado==success_msg)\n",
        "\n",
        "def test_salvar_inst_email_com_espaco():\n",
        "    success_msg = \"E-mail inválido\"\n",
        "    resultado = new_inst.salvar(\"Maria\",\"ma  ri@test.com\",\"analista de sistemas\",\"teste\", True)\n",
        "    assert(resultado==success_msg)\n",
        "\n",
        "def test_salvar_inst_email_com_pontobr():\n",
        "    success_msg = \"E-mail inválido\"\n",
        "    resultado = new_inst.salvar(\"Maria\",\"maria@test.com.br\",\"analista de sistemas\",\"teste\", True)\n",
        "    assert(resultado==success_msg)\n",
        "\n",
        "##########  Editar instrutor  ################################\n",
        "def test_editar_inst_sucesso():\n",
        "  success_msg= (\"João\",\"teste@teste.com\",\"testador\",\"teste\")\n",
        "  resultado = new_inst.editar(\"João\",\"teste@teste.com\",\"testador\", \"teste\",True)\n",
        "  assert(resultado==success_msg)\n",
        "\n",
        "def test_editar_inst_nao_encontrado():\n",
        "  success_msg= \"instrutor não encontrado\"\n",
        "  resultado = new_inst.editar(\"Leonardo\",\"ldias@teste.com\",\"engenheiro qualidade\", \"devteam\",True)\n",
        "  assert(resultado==success_msg)\n",
        "\n",
        "##########  Buscar instrutor  ################################\n",
        "def test_buscar_inst_sucesso():\n",
        "    success_msg = (\"João\", \"joao@test.com\")\n",
        "    resultado = new_inst.buscar(\"João\")\n",
        "    assert(resultado==success_msg)\n",
        "\n",
        "def test_buscar_inst_nao_encontrado():\n",
        "  sucess_msg = \"instrutor não encontrado\"\n",
        "  resultado = new_inst.buscar(\"Maria\")\n",
        "  assert(resultado==sucess_msg)\n",
        "\n",
        "##########  Remover instrutor  ################################\n",
        "def test_remover_inst_sucesso():\n",
        "  sucess_msg = \"instrutor removido com sucesso\"\n",
        "  resultado = new_inst.remover(\"João\")\n",
        "  assert(resultado==sucess_msg)\n",
        "\n",
        "def test_remover_inst_nao_encontrado():\n",
        "  sucess_msg = \"instrutor não encontrado\"\n",
        "  resultado = new_inst.remover(\"Maria\")\n",
        "  assert(resultado==sucess_msg)\n",
        "\n"
      ],
      "metadata": {
        "colab": {
          "base_uri": "https://localhost:8080/"
        },
        "id": "jgltPLcYvlAG",
        "outputId": "69ecf903-a0a9-410d-c88c-8ea1f3060e54"
      },
      "execution_count": 7,
      "outputs": [
        {
          "output_type": "stream",
          "name": "stdout",
          "text": [
            "Writing test_instrutor.py\n"
          ]
        }
      ]
    },
    {
      "cell_type": "code",
      "metadata": {
        "id": "DXBQkMc8VeD8",
        "outputId": "0848d858-70bd-45b6-d567-10e681da60a3",
        "colab": {
          "base_uri": "https://localhost:8080/"
        }
      },
      "source": [
        "#Comando pytest para executar Testes Unitários\n",
        "!python -m pytest test_instrutor.py "
      ],
      "execution_count": 8,
      "outputs": [
        {
          "output_type": "stream",
          "name": "stdout",
          "text": [
            "\u001b[1mTest session starts (platform: linux, Python 3.8.16, pytest 7.2.1, pytest-sugar 0.9.6)\u001b[0m\n",
            "rootdir: /content/tdd\n",
            "plugins: cov-4.0.0, sugar-0.9.6, typeguard-2.7.1\n",
            "\u001b[1mcollecting ... \u001b[0m\r\n",
            "\r \u001b[36m\u001b[0mtest_instrutor.py\u001b[0m \u001b[32m✓\u001b[0m                                               \u001b[32m5% \u001b[0m\u001b[40m\u001b[32m▌\u001b[0m\u001b[40m\u001b[32m         \u001b[0m\r \u001b[36m\u001b[0mtest_instrutor.py\u001b[0m \u001b[32m✓\u001b[0m\u001b[32m✓\u001b[0m                                             \u001b[32m11% \u001b[0m\u001b[40m\u001b[32m█\u001b[0m\u001b[40m\u001b[32m▏        \u001b[0m\r \u001b[36m\u001b[0mtest_instrutor.py\u001b[0m \u001b[32m✓\u001b[0m\u001b[32m✓\u001b[0m\u001b[32m✓\u001b[0m                                            \u001b[32m16% \u001b[0m\u001b[40m\u001b[32m█\u001b[0m\u001b[40m\u001b[32m▋\u001b[0m\u001b[40m\u001b[32m        \u001b[0m\r \u001b[36m\u001b[0mtest_instrutor.py\u001b[0m \u001b[32m✓\u001b[0m\u001b[32m✓\u001b[0m\u001b[32m✓\u001b[0m\u001b[32m✓\u001b[0m                                           \u001b[32m21% \u001b[0m\u001b[40m\u001b[32m█\u001b[0m\u001b[40m\u001b[32m█\u001b[0m\u001b[40m\u001b[32m▏       \u001b[0m\r \u001b[36m\u001b[0mtest_instrutor.py\u001b[0m \u001b[32m✓\u001b[0m\u001b[32m✓\u001b[0m\u001b[32m✓\u001b[0m\u001b[32m✓\u001b[0m\u001b[32m✓\u001b[0m                                          \u001b[32m26% \u001b[0m\u001b[40m\u001b[32m█\u001b[0m\u001b[40m\u001b[32m█\u001b[0m\u001b[40m\u001b[32m▋\u001b[0m\u001b[40m\u001b[32m       \u001b[0m\r \u001b[36m\u001b[0mtest_instrutor.py\u001b[0m \u001b[32m✓\u001b[0m\u001b[32m✓\u001b[0m\u001b[32m✓\u001b[0m\u001b[32m✓\u001b[0m\u001b[32m✓\u001b[0m\u001b[32m✓\u001b[0m                                         \u001b[32m32% \u001b[0m\u001b[40m\u001b[32m█\u001b[0m\u001b[40m\u001b[32m█\u001b[0m\u001b[40m\u001b[32m█\u001b[0m\u001b[40m\u001b[32m▎      \u001b[0m\r \u001b[36m\u001b[0mtest_instrutor.py\u001b[0m \u001b[32m✓\u001b[0m\u001b[32m✓\u001b[0m\u001b[32m✓\u001b[0m\u001b[32m✓\u001b[0m\u001b[32m✓\u001b[0m\u001b[32m✓\u001b[0m\u001b[32m✓\u001b[0m                                        \u001b[32m37% \u001b[0m\u001b[40m\u001b[32m█\u001b[0m\u001b[40m\u001b[32m█\u001b[0m\u001b[40m\u001b[32m█\u001b[0m\u001b[40m\u001b[32m▊\u001b[0m\u001b[40m\u001b[32m      \u001b[0m\r \u001b[36m\u001b[0mtest_instrutor.py\u001b[0m \u001b[32m✓\u001b[0m\u001b[32m✓\u001b[0m\u001b[32m✓\u001b[0m\u001b[32m✓\u001b[0m\u001b[32m✓\u001b[0m\u001b[32m✓\u001b[0m\u001b[32m✓\u001b[0m\u001b[32m✓\u001b[0m                                       \u001b[32m42% \u001b[0m\u001b[40m\u001b[32m█\u001b[0m\u001b[40m\u001b[32m█\u001b[0m\u001b[40m\u001b[32m█\u001b[0m\u001b[40m\u001b[32m█\u001b[0m\u001b[40m\u001b[32m▎     \u001b[0m\r \u001b[36m\u001b[0mtest_instrutor.py\u001b[0m \u001b[32m✓\u001b[0m\u001b[32m✓\u001b[0m\u001b[32m✓\u001b[0m\u001b[32m✓\u001b[0m\u001b[32m✓\u001b[0m\u001b[32m✓\u001b[0m\u001b[32m✓\u001b[0m\u001b[32m✓\u001b[0m\u001b[32m✓\u001b[0m                                      \u001b[32m47% \u001b[0m\u001b[40m\u001b[32m█\u001b[0m\u001b[40m\u001b[32m█\u001b[0m\u001b[40m\u001b[32m█\u001b[0m\u001b[40m\u001b[32m█\u001b[0m\u001b[40m\u001b[32m▊\u001b[0m\u001b[40m\u001b[32m     \u001b[0m\r \u001b[36m\u001b[0mtest_instrutor.py\u001b[0m \u001b[32m✓\u001b[0m\u001b[32m✓\u001b[0m\u001b[32m✓\u001b[0m\u001b[32m✓\u001b[0m\u001b[32m✓\u001b[0m\u001b[32m✓\u001b[0m\u001b[32m✓\u001b[0m\u001b[32m✓\u001b[0m\u001b[32m✓\u001b[0m\u001b[32m✓\u001b[0m                                     \u001b[32m53% \u001b[0m\u001b[40m\u001b[32m█\u001b[0m\u001b[40m\u001b[32m█\u001b[0m\u001b[40m\u001b[32m█\u001b[0m\u001b[40m\u001b[32m█\u001b[0m\u001b[40m\u001b[32m█\u001b[0m\u001b[40m\u001b[32m▍    \u001b[0m\r \u001b[36m\u001b[0mtest_instrutor.py\u001b[0m \u001b[32m✓\u001b[0m\u001b[32m✓\u001b[0m\u001b[32m✓\u001b[0m\u001b[32m✓\u001b[0m\u001b[32m✓\u001b[0m\u001b[32m✓\u001b[0m\u001b[32m✓\u001b[0m\u001b[32m✓\u001b[0m\u001b[32m✓\u001b[0m\u001b[32m✓\u001b[0m\u001b[32m✓\u001b[0m                                    \u001b[32m58% \u001b[0m\u001b[40m\u001b[32m█\u001b[0m\u001b[40m\u001b[32m█\u001b[0m\u001b[40m\u001b[32m█\u001b[0m\u001b[40m\u001b[32m█\u001b[0m\u001b[40m\u001b[32m█\u001b[0m\u001b[40m\u001b[32m▊\u001b[0m\u001b[40m\u001b[32m    \u001b[0m\r \u001b[36m\u001b[0mtest_instrutor.py\u001b[0m \u001b[32m✓\u001b[0m\u001b[32m✓\u001b[0m\u001b[32m✓\u001b[0m\u001b[32m✓\u001b[0m\u001b[32m✓\u001b[0m\u001b[32m✓\u001b[0m\u001b[32m✓\u001b[0m\u001b[32m✓\u001b[0m\u001b[32m✓\u001b[0m\u001b[32m✓\u001b[0m\u001b[32m✓\u001b[0m\u001b[32m✓\u001b[0m                                   \u001b[32m63% \u001b[0m\u001b[40m\u001b[32m█\u001b[0m\u001b[40m\u001b[32m█\u001b[0m\u001b[40m\u001b[32m█\u001b[0m\u001b[40m\u001b[32m█\u001b[0m\u001b[40m\u001b[32m█\u001b[0m\u001b[40m\u001b[32m█\u001b[0m\u001b[40m\u001b[32m▍   \u001b[0m\r \u001b[36m\u001b[0mtest_instrutor.py\u001b[0m \u001b[32m✓\u001b[0m\u001b[32m✓\u001b[0m\u001b[32m✓\u001b[0m\u001b[32m✓\u001b[0m\u001b[32m✓\u001b[0m\u001b[32m✓\u001b[0m\u001b[32m✓\u001b[0m\u001b[32m✓\u001b[0m\u001b[32m✓\u001b[0m\u001b[32m✓\u001b[0m\u001b[32m✓\u001b[0m\u001b[32m✓\u001b[0m\u001b[32m✓\u001b[0m                                  \u001b[32m68% \u001b[0m\u001b[40m\u001b[32m█\u001b[0m\u001b[40m\u001b[32m█\u001b[0m\u001b[40m\u001b[32m█\u001b[0m\u001b[40m\u001b[32m█\u001b[0m\u001b[40m\u001b[32m█\u001b[0m\u001b[40m\u001b[32m█\u001b[0m\u001b[40m\u001b[32m▉\u001b[0m\u001b[40m\u001b[32m   \u001b[0m\r \u001b[36m\u001b[0mtest_instrutor.py\u001b[0m \u001b[32m✓\u001b[0m\u001b[32m✓\u001b[0m\u001b[32m✓\u001b[0m\u001b[32m✓\u001b[0m\u001b[32m✓\u001b[0m\u001b[32m✓\u001b[0m\u001b[32m✓\u001b[0m\u001b[32m✓\u001b[0m\u001b[32m✓\u001b[0m\u001b[32m✓\u001b[0m\u001b[32m✓\u001b[0m\u001b[32m✓\u001b[0m\u001b[32m✓\u001b[0m\u001b[32m✓\u001b[0m                                 \u001b[32m74% \u001b[0m\u001b[40m\u001b[32m█\u001b[0m\u001b[40m\u001b[32m█\u001b[0m\u001b[40m\u001b[32m█\u001b[0m\u001b[40m\u001b[32m█\u001b[0m\u001b[40m\u001b[32m█\u001b[0m\u001b[40m\u001b[32m█\u001b[0m\u001b[40m\u001b[32m█\u001b[0m\u001b[40m\u001b[32m▍  \u001b[0m\r \u001b[36m\u001b[0mtest_instrutor.py\u001b[0m \u001b[32m✓\u001b[0m\u001b[32m✓\u001b[0m\u001b[32m✓\u001b[0m\u001b[32m✓\u001b[0m\u001b[32m✓\u001b[0m\u001b[32m✓\u001b[0m\u001b[32m✓\u001b[0m\u001b[32m✓\u001b[0m\u001b[32m✓\u001b[0m\u001b[32m✓\u001b[0m\u001b[32m✓\u001b[0m\u001b[32m✓\u001b[0m\u001b[32m✓\u001b[0m\u001b[32m✓\u001b[0m\u001b[32m✓\u001b[0m                                \u001b[32m79% \u001b[0m\u001b[40m\u001b[32m█\u001b[0m\u001b[40m\u001b[32m█\u001b[0m\u001b[40m\u001b[32m█\u001b[0m\u001b[40m\u001b[32m█\u001b[0m\u001b[40m\u001b[32m█\u001b[0m\u001b[40m\u001b[32m█\u001b[0m\u001b[40m\u001b[32m█\u001b[0m\u001b[40m\u001b[32m▉\u001b[0m\u001b[40m\u001b[32m  \u001b[0m\r \u001b[36m\u001b[0mtest_instrutor.py\u001b[0m \u001b[32m✓\u001b[0m\u001b[32m✓\u001b[0m\u001b[32m✓\u001b[0m\u001b[32m✓\u001b[0m\u001b[32m✓\u001b[0m\u001b[32m✓\u001b[0m\u001b[32m✓\u001b[0m\u001b[32m✓\u001b[0m\u001b[32m✓\u001b[0m\u001b[32m✓\u001b[0m\u001b[32m✓\u001b[0m\u001b[32m✓\u001b[0m\u001b[32m✓\u001b[0m\u001b[32m✓\u001b[0m\u001b[32m✓\u001b[0m\u001b[32m✓\u001b[0m                               \u001b[32m84% \u001b[0m\u001b[40m\u001b[32m█\u001b[0m\u001b[40m\u001b[32m█\u001b[0m\u001b[40m\u001b[32m█\u001b[0m\u001b[40m\u001b[32m█\u001b[0m\u001b[40m\u001b[32m█\u001b[0m\u001b[40m\u001b[32m█\u001b[0m\u001b[40m\u001b[32m█\u001b[0m\u001b[40m\u001b[32m█\u001b[0m\u001b[40m\u001b[32m▌ \u001b[0m\r \u001b[36m\u001b[0mtest_instrutor.py\u001b[0m \u001b[32m✓\u001b[0m\u001b[32m✓\u001b[0m\u001b[32m✓\u001b[0m\u001b[32m✓\u001b[0m\u001b[32m✓\u001b[0m\u001b[32m✓\u001b[0m\u001b[32m✓\u001b[0m\u001b[32m✓\u001b[0m\u001b[32m✓\u001b[0m\u001b[32m✓\u001b[0m\u001b[32m✓\u001b[0m\u001b[32m✓\u001b[0m\u001b[32m✓\u001b[0m\u001b[32m✓\u001b[0m\u001b[32m✓\u001b[0m\u001b[32m✓\u001b[0m\u001b[32m✓\u001b[0m                              \u001b[32m89% \u001b[0m\u001b[40m\u001b[32m█\u001b[0m\u001b[40m\u001b[32m█\u001b[0m\u001b[40m\u001b[32m█\u001b[0m\u001b[40m\u001b[32m█\u001b[0m\u001b[40m\u001b[32m█\u001b[0m\u001b[40m\u001b[32m█\u001b[0m\u001b[40m\u001b[32m█\u001b[0m\u001b[40m\u001b[32m█\u001b[0m\u001b[40m\u001b[32m▉\u001b[0m\u001b[40m\u001b[32m \u001b[0m\r \u001b[36m\u001b[0mtest_instrutor.py\u001b[0m \u001b[32m✓\u001b[0m\u001b[32m✓\u001b[0m\u001b[32m✓\u001b[0m\u001b[32m✓\u001b[0m\u001b[32m✓\u001b[0m\u001b[32m✓\u001b[0m\u001b[32m✓\u001b[0m\u001b[32m✓\u001b[0m\u001b[32m✓\u001b[0m\u001b[32m✓\u001b[0m\u001b[32m✓\u001b[0m\u001b[32m✓\u001b[0m\u001b[32m✓\u001b[0m\u001b[32m✓\u001b[0m\u001b[32m✓\u001b[0m\u001b[32m✓\u001b[0m\u001b[32m✓\u001b[0m\u001b[32m✓\u001b[0m                             \u001b[32m95% \u001b[0m\u001b[40m\u001b[32m█\u001b[0m\u001b[40m\u001b[32m█\u001b[0m\u001b[40m\u001b[32m█\u001b[0m\u001b[40m\u001b[32m█\u001b[0m\u001b[40m\u001b[32m█\u001b[0m\u001b[40m\u001b[32m█\u001b[0m\u001b[40m\u001b[32m█\u001b[0m\u001b[40m\u001b[32m█\u001b[0m\u001b[40m\u001b[32m█\u001b[0m\u001b[40m\u001b[32m▌\u001b[0m\r \u001b[36m\u001b[0mtest_instrutor.py\u001b[0m \u001b[32m✓\u001b[0m\u001b[32m✓\u001b[0m\u001b[32m✓\u001b[0m\u001b[32m✓\u001b[0m\u001b[32m✓\u001b[0m\u001b[32m✓\u001b[0m\u001b[32m✓\u001b[0m\u001b[32m✓\u001b[0m\u001b[32m✓\u001b[0m\u001b[32m✓\u001b[0m\u001b[32m✓\u001b[0m\u001b[32m✓\u001b[0m\u001b[32m✓\u001b[0m\u001b[32m✓\u001b[0m\u001b[32m✓\u001b[0m\u001b[32m✓\u001b[0m\u001b[32m✓\u001b[0m\u001b[32m✓\u001b[0m\u001b[32m✓\u001b[0m                           \u001b[32m100% \u001b[0m\u001b[40m\u001b[32m█\u001b[0m\u001b[40m\u001b[32m█\u001b[0m\u001b[40m\u001b[32m█\u001b[0m\u001b[40m\u001b[32m█\u001b[0m\u001b[40m\u001b[32m█\u001b[0m\u001b[40m\u001b[32m█\u001b[0m\u001b[40m\u001b[32m█\u001b[0m\u001b[40m\u001b[32m█\u001b[0m\u001b[40m\u001b[32m█\u001b[0m\u001b[40m\u001b[32m█\u001b[0m\n",
            "\n",
            "Results (0.13s):\n",
            "\u001b[32m      19 passed\u001b[0m\n"
          ]
        }
      ]
    },
    {
      "cell_type": "code",
      "source": [
        "#Comando Pytest-cov para gerar relatório do cobertura\n",
        "!python -m pytest  test_instrutor.py --cov-report term-missing --cov /content/tdd"
      ],
      "metadata": {
        "colab": {
          "base_uri": "https://localhost:8080/"
        },
        "id": "l1cX_PGw13gP",
        "outputId": "64721a06-cbd8-4203-8c34-3f78000419e4"
      },
      "execution_count": 9,
      "outputs": [
        {
          "output_type": "stream",
          "name": "stdout",
          "text": [
            "\u001b[1mTest session starts (platform: linux, Python 3.8.16, pytest 7.2.1, pytest-sugar 0.9.6)\u001b[0m\n",
            "rootdir: /content/tdd\n",
            "plugins: cov-4.0.0, sugar-0.9.6, typeguard-2.7.1\n",
            "\u001b[1mcollecting ... \u001b[0m\r\n",
            "\r \u001b[36m\u001b[0mtest_instrutor.py\u001b[0m \u001b[32m✓\u001b[0m                                               \u001b[32m5% \u001b[0m\u001b[40m\u001b[32m▌\u001b[0m\u001b[40m\u001b[32m         \u001b[0m\r \u001b[36m\u001b[0mtest_instrutor.py\u001b[0m \u001b[32m✓\u001b[0m\u001b[32m✓\u001b[0m                                             \u001b[32m11% \u001b[0m\u001b[40m\u001b[32m█\u001b[0m\u001b[40m\u001b[32m▏        \u001b[0m\r \u001b[36m\u001b[0mtest_instrutor.py\u001b[0m \u001b[32m✓\u001b[0m\u001b[32m✓\u001b[0m\u001b[32m✓\u001b[0m                                            \u001b[32m16% \u001b[0m\u001b[40m\u001b[32m█\u001b[0m\u001b[40m\u001b[32m▋\u001b[0m\u001b[40m\u001b[32m        \u001b[0m\r \u001b[36m\u001b[0mtest_instrutor.py\u001b[0m \u001b[32m✓\u001b[0m\u001b[32m✓\u001b[0m\u001b[32m✓\u001b[0m\u001b[32m✓\u001b[0m                                           \u001b[32m21% \u001b[0m\u001b[40m\u001b[32m█\u001b[0m\u001b[40m\u001b[32m█\u001b[0m\u001b[40m\u001b[32m▏       \u001b[0m\r \u001b[36m\u001b[0mtest_instrutor.py\u001b[0m \u001b[32m✓\u001b[0m\u001b[32m✓\u001b[0m\u001b[32m✓\u001b[0m\u001b[32m✓\u001b[0m\u001b[32m✓\u001b[0m                                          \u001b[32m26% \u001b[0m\u001b[40m\u001b[32m█\u001b[0m\u001b[40m\u001b[32m█\u001b[0m\u001b[40m\u001b[32m▋\u001b[0m\u001b[40m\u001b[32m       \u001b[0m\r \u001b[36m\u001b[0mtest_instrutor.py\u001b[0m \u001b[32m✓\u001b[0m\u001b[32m✓\u001b[0m\u001b[32m✓\u001b[0m\u001b[32m✓\u001b[0m\u001b[32m✓\u001b[0m\u001b[32m✓\u001b[0m                                         \u001b[32m32% \u001b[0m\u001b[40m\u001b[32m█\u001b[0m\u001b[40m\u001b[32m█\u001b[0m\u001b[40m\u001b[32m█\u001b[0m\u001b[40m\u001b[32m▎      \u001b[0m\r \u001b[36m\u001b[0mtest_instrutor.py\u001b[0m \u001b[32m✓\u001b[0m\u001b[32m✓\u001b[0m\u001b[32m✓\u001b[0m\u001b[32m✓\u001b[0m\u001b[32m✓\u001b[0m\u001b[32m✓\u001b[0m\u001b[32m✓\u001b[0m                                        \u001b[32m37% \u001b[0m\u001b[40m\u001b[32m█\u001b[0m\u001b[40m\u001b[32m█\u001b[0m\u001b[40m\u001b[32m█\u001b[0m\u001b[40m\u001b[32m▊\u001b[0m\u001b[40m\u001b[32m      \u001b[0m\r \u001b[36m\u001b[0mtest_instrutor.py\u001b[0m \u001b[32m✓\u001b[0m\u001b[32m✓\u001b[0m\u001b[32m✓\u001b[0m\u001b[32m✓\u001b[0m\u001b[32m✓\u001b[0m\u001b[32m✓\u001b[0m\u001b[32m✓\u001b[0m\u001b[32m✓\u001b[0m                                       \u001b[32m42% \u001b[0m\u001b[40m\u001b[32m█\u001b[0m\u001b[40m\u001b[32m█\u001b[0m\u001b[40m\u001b[32m█\u001b[0m\u001b[40m\u001b[32m█\u001b[0m\u001b[40m\u001b[32m▎     \u001b[0m\r \u001b[36m\u001b[0mtest_instrutor.py\u001b[0m \u001b[32m✓\u001b[0m\u001b[32m✓\u001b[0m\u001b[32m✓\u001b[0m\u001b[32m✓\u001b[0m\u001b[32m✓\u001b[0m\u001b[32m✓\u001b[0m\u001b[32m✓\u001b[0m\u001b[32m✓\u001b[0m\u001b[32m✓\u001b[0m                                      \u001b[32m47% \u001b[0m\u001b[40m\u001b[32m█\u001b[0m\u001b[40m\u001b[32m█\u001b[0m\u001b[40m\u001b[32m█\u001b[0m\u001b[40m\u001b[32m█\u001b[0m\u001b[40m\u001b[32m▊\u001b[0m\u001b[40m\u001b[32m     \u001b[0m\r \u001b[36m\u001b[0mtest_instrutor.py\u001b[0m \u001b[32m✓\u001b[0m\u001b[32m✓\u001b[0m\u001b[32m✓\u001b[0m\u001b[32m✓\u001b[0m\u001b[32m✓\u001b[0m\u001b[32m✓\u001b[0m\u001b[32m✓\u001b[0m\u001b[32m✓\u001b[0m\u001b[32m✓\u001b[0m\u001b[32m✓\u001b[0m                                     \u001b[32m53% \u001b[0m\u001b[40m\u001b[32m█\u001b[0m\u001b[40m\u001b[32m█\u001b[0m\u001b[40m\u001b[32m█\u001b[0m\u001b[40m\u001b[32m█\u001b[0m\u001b[40m\u001b[32m█\u001b[0m\u001b[40m\u001b[32m▍    \u001b[0m\r \u001b[36m\u001b[0mtest_instrutor.py\u001b[0m \u001b[32m✓\u001b[0m\u001b[32m✓\u001b[0m\u001b[32m✓\u001b[0m\u001b[32m✓\u001b[0m\u001b[32m✓\u001b[0m\u001b[32m✓\u001b[0m\u001b[32m✓\u001b[0m\u001b[32m✓\u001b[0m\u001b[32m✓\u001b[0m\u001b[32m✓\u001b[0m\u001b[32m✓\u001b[0m                                    \u001b[32m58% \u001b[0m\u001b[40m\u001b[32m█\u001b[0m\u001b[40m\u001b[32m█\u001b[0m\u001b[40m\u001b[32m█\u001b[0m\u001b[40m\u001b[32m█\u001b[0m\u001b[40m\u001b[32m█\u001b[0m\u001b[40m\u001b[32m▊\u001b[0m\u001b[40m\u001b[32m    \u001b[0m\r \u001b[36m\u001b[0mtest_instrutor.py\u001b[0m \u001b[32m✓\u001b[0m\u001b[32m✓\u001b[0m\u001b[32m✓\u001b[0m\u001b[32m✓\u001b[0m\u001b[32m✓\u001b[0m\u001b[32m✓\u001b[0m\u001b[32m✓\u001b[0m\u001b[32m✓\u001b[0m\u001b[32m✓\u001b[0m\u001b[32m✓\u001b[0m\u001b[32m✓\u001b[0m\u001b[32m✓\u001b[0m                                   \u001b[32m63% \u001b[0m\u001b[40m\u001b[32m█\u001b[0m\u001b[40m\u001b[32m█\u001b[0m\u001b[40m\u001b[32m█\u001b[0m\u001b[40m\u001b[32m█\u001b[0m\u001b[40m\u001b[32m█\u001b[0m\u001b[40m\u001b[32m█\u001b[0m\u001b[40m\u001b[32m▍   \u001b[0m\r \u001b[36m\u001b[0mtest_instrutor.py\u001b[0m \u001b[32m✓\u001b[0m\u001b[32m✓\u001b[0m\u001b[32m✓\u001b[0m\u001b[32m✓\u001b[0m\u001b[32m✓\u001b[0m\u001b[32m✓\u001b[0m\u001b[32m✓\u001b[0m\u001b[32m✓\u001b[0m\u001b[32m✓\u001b[0m\u001b[32m✓\u001b[0m\u001b[32m✓\u001b[0m\u001b[32m✓\u001b[0m\u001b[32m✓\u001b[0m                                  \u001b[32m68% \u001b[0m\u001b[40m\u001b[32m█\u001b[0m\u001b[40m\u001b[32m█\u001b[0m\u001b[40m\u001b[32m█\u001b[0m\u001b[40m\u001b[32m█\u001b[0m\u001b[40m\u001b[32m█\u001b[0m\u001b[40m\u001b[32m█\u001b[0m\u001b[40m\u001b[32m▉\u001b[0m\u001b[40m\u001b[32m   \u001b[0m\r \u001b[36m\u001b[0mtest_instrutor.py\u001b[0m \u001b[32m✓\u001b[0m\u001b[32m✓\u001b[0m\u001b[32m✓\u001b[0m\u001b[32m✓\u001b[0m\u001b[32m✓\u001b[0m\u001b[32m✓\u001b[0m\u001b[32m✓\u001b[0m\u001b[32m✓\u001b[0m\u001b[32m✓\u001b[0m\u001b[32m✓\u001b[0m\u001b[32m✓\u001b[0m\u001b[32m✓\u001b[0m\u001b[32m✓\u001b[0m\u001b[32m✓\u001b[0m                                 \u001b[32m74% \u001b[0m\u001b[40m\u001b[32m█\u001b[0m\u001b[40m\u001b[32m█\u001b[0m\u001b[40m\u001b[32m█\u001b[0m\u001b[40m\u001b[32m█\u001b[0m\u001b[40m\u001b[32m█\u001b[0m\u001b[40m\u001b[32m█\u001b[0m\u001b[40m\u001b[32m█\u001b[0m\u001b[40m\u001b[32m▍  \u001b[0m\r \u001b[36m\u001b[0mtest_instrutor.py\u001b[0m \u001b[32m✓\u001b[0m\u001b[32m✓\u001b[0m\u001b[32m✓\u001b[0m\u001b[32m✓\u001b[0m\u001b[32m✓\u001b[0m\u001b[32m✓\u001b[0m\u001b[32m✓\u001b[0m\u001b[32m✓\u001b[0m\u001b[32m✓\u001b[0m\u001b[32m✓\u001b[0m\u001b[32m✓\u001b[0m\u001b[32m✓\u001b[0m\u001b[32m✓\u001b[0m\u001b[32m✓\u001b[0m\u001b[32m✓\u001b[0m                                \u001b[32m79% \u001b[0m\u001b[40m\u001b[32m█\u001b[0m\u001b[40m\u001b[32m█\u001b[0m\u001b[40m\u001b[32m█\u001b[0m\u001b[40m\u001b[32m█\u001b[0m\u001b[40m\u001b[32m█\u001b[0m\u001b[40m\u001b[32m█\u001b[0m\u001b[40m\u001b[32m█\u001b[0m\u001b[40m\u001b[32m▉\u001b[0m\u001b[40m\u001b[32m  \u001b[0m\r \u001b[36m\u001b[0mtest_instrutor.py\u001b[0m \u001b[32m✓\u001b[0m\u001b[32m✓\u001b[0m\u001b[32m✓\u001b[0m\u001b[32m✓\u001b[0m\u001b[32m✓\u001b[0m\u001b[32m✓\u001b[0m\u001b[32m✓\u001b[0m\u001b[32m✓\u001b[0m\u001b[32m✓\u001b[0m\u001b[32m✓\u001b[0m\u001b[32m✓\u001b[0m\u001b[32m✓\u001b[0m\u001b[32m✓\u001b[0m\u001b[32m✓\u001b[0m\u001b[32m✓\u001b[0m\u001b[32m✓\u001b[0m                               \u001b[32m84% \u001b[0m\u001b[40m\u001b[32m█\u001b[0m\u001b[40m\u001b[32m█\u001b[0m\u001b[40m\u001b[32m█\u001b[0m\u001b[40m\u001b[32m█\u001b[0m\u001b[40m\u001b[32m█\u001b[0m\u001b[40m\u001b[32m█\u001b[0m\u001b[40m\u001b[32m█\u001b[0m\u001b[40m\u001b[32m█\u001b[0m\u001b[40m\u001b[32m▌ \u001b[0m\r \u001b[36m\u001b[0mtest_instrutor.py\u001b[0m \u001b[32m✓\u001b[0m\u001b[32m✓\u001b[0m\u001b[32m✓\u001b[0m\u001b[32m✓\u001b[0m\u001b[32m✓\u001b[0m\u001b[32m✓\u001b[0m\u001b[32m✓\u001b[0m\u001b[32m✓\u001b[0m\u001b[32m✓\u001b[0m\u001b[32m✓\u001b[0m\u001b[32m✓\u001b[0m\u001b[32m✓\u001b[0m\u001b[32m✓\u001b[0m\u001b[32m✓\u001b[0m\u001b[32m✓\u001b[0m\u001b[32m✓\u001b[0m\u001b[32m✓\u001b[0m                              \u001b[32m89% \u001b[0m\u001b[40m\u001b[32m█\u001b[0m\u001b[40m\u001b[32m█\u001b[0m\u001b[40m\u001b[32m█\u001b[0m\u001b[40m\u001b[32m█\u001b[0m\u001b[40m\u001b[32m█\u001b[0m\u001b[40m\u001b[32m█\u001b[0m\u001b[40m\u001b[32m█\u001b[0m\u001b[40m\u001b[32m█\u001b[0m\u001b[40m\u001b[32m▉\u001b[0m\u001b[40m\u001b[32m \u001b[0m\r \u001b[36m\u001b[0mtest_instrutor.py\u001b[0m \u001b[32m✓\u001b[0m\u001b[32m✓\u001b[0m\u001b[32m✓\u001b[0m\u001b[32m✓\u001b[0m\u001b[32m✓\u001b[0m\u001b[32m✓\u001b[0m\u001b[32m✓\u001b[0m\u001b[32m✓\u001b[0m\u001b[32m✓\u001b[0m\u001b[32m✓\u001b[0m\u001b[32m✓\u001b[0m\u001b[32m✓\u001b[0m\u001b[32m✓\u001b[0m\u001b[32m✓\u001b[0m\u001b[32m✓\u001b[0m\u001b[32m✓\u001b[0m\u001b[32m✓\u001b[0m\u001b[32m✓\u001b[0m                             \u001b[32m95% \u001b[0m\u001b[40m\u001b[32m█\u001b[0m\u001b[40m\u001b[32m█\u001b[0m\u001b[40m\u001b[32m█\u001b[0m\u001b[40m\u001b[32m█\u001b[0m\u001b[40m\u001b[32m█\u001b[0m\u001b[40m\u001b[32m█\u001b[0m\u001b[40m\u001b[32m█\u001b[0m\u001b[40m\u001b[32m█\u001b[0m\u001b[40m\u001b[32m█\u001b[0m\u001b[40m\u001b[32m▌\u001b[0m\r \u001b[36m\u001b[0mtest_instrutor.py\u001b[0m \u001b[32m✓\u001b[0m\u001b[32m✓\u001b[0m\u001b[32m✓\u001b[0m\u001b[32m✓\u001b[0m\u001b[32m✓\u001b[0m\u001b[32m✓\u001b[0m\u001b[32m✓\u001b[0m\u001b[32m✓\u001b[0m\u001b[32m✓\u001b[0m\u001b[32m✓\u001b[0m\u001b[32m✓\u001b[0m\u001b[32m✓\u001b[0m\u001b[32m✓\u001b[0m\u001b[32m✓\u001b[0m\u001b[32m✓\u001b[0m\u001b[32m✓\u001b[0m\u001b[32m✓\u001b[0m\u001b[32m✓\u001b[0m\u001b[32m✓\u001b[0m                           \u001b[32m100% \u001b[0m\u001b[40m\u001b[32m█\u001b[0m\u001b[40m\u001b[32m█\u001b[0m\u001b[40m\u001b[32m█\u001b[0m\u001b[40m\u001b[32m█\u001b[0m\u001b[40m\u001b[32m█\u001b[0m\u001b[40m\u001b[32m█\u001b[0m\u001b[40m\u001b[32m█\u001b[0m\u001b[40m\u001b[32m█\u001b[0m\u001b[40m\u001b[32m█\u001b[0m\u001b[40m\u001b[32m█\u001b[0m\n",
            "\n",
            "---------- coverage: platform linux, python 3.8.16-final-0 -----------\n",
            "Name                Stmts   Miss  Cover   Missing\n",
            "-------------------------------------------------\n",
            "instcontroller.py      47      0   100%\n",
            "instrutor.py           56      8    86%   21, 24, 56, 60, 64, 68, 72, 76\n",
            "test_instrutor.py      78      0   100%\n",
            "-------------------------------------------------\n",
            "TOTAL                 181      8    96%\n",
            "\n",
            "\n",
            "Results (0.17s):\n",
            "\u001b[32m      19 passed\u001b[0m\n"
          ]
        }
      ]
    }
  ]
}